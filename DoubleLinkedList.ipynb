{
 "cells": [
  {
   "cell_type": "code",
   "execution_count": 1,
   "metadata": {},
   "outputs": [],
   "source": [
    "class Node:\n",
    "    def __init__(self,data):\n",
    "        self.data=data\n",
    "        self.right=None\n",
    "        self.left=None\n",
    "    def Show(self):\n",
    "        print(self.data)\n",
    "\n",
    "def traverse(a):\n",
    "    while(a!=None):\n",
    "        print(a.data)\n",
    "        a=a.right\n",
    "def insertEnd(N,data):\n",
    "    x=Node(data)\n",
    "    while(N.right!=None):\n",
    "        N=N.right\n",
    "    N.right=x\n",
    "    x.left=N\n",
    "def insertStart(Nod,data):\n",
    "    n=Node(data)\n",
    "    n.right=Nod\n",
    "    Nod.left=n\n",
    "    return n\n"
   ]
  },
  {
   "cell_type": "code",
   "execution_count": 2,
   "metadata": {},
   "outputs": [],
   "source": [
    "a=Node(\"Aman\")\n",
    "b=Node(\"Saxena\")\n",
    "c=Node(\"Prakriti\")\n",
    "d=Node(\"Gupta\")\n",
    "a.right=b\n",
    "b.left=a\n",
    "b.right=c\n",
    "c.left=b\n",
    "c.right=d\n",
    "d.left=c"
   ]
  },
  {
   "cell_type": "code",
   "execution_count": 8,
   "metadata": {},
   "outputs": [
    {
     "name": "stdout",
     "output_type": "stream",
     "text": [
      "Both\n",
      "Aman\n",
      "Saxena\n",
      "Prakriti\n",
      "Gupta\n",
      "Best\n"
     ]
    }
   ],
   "source": [
    "traverse(a)"
   ]
  },
  {
   "cell_type": "code",
   "execution_count": 4,
   "metadata": {},
   "outputs": [],
   "source": [
    "insertEnd(a,\"Best\")"
   ]
  },
  {
   "cell_type": "code",
   "execution_count": 7,
   "metadata": {},
   "outputs": [],
   "source": [
    "a=insertStart(a,\"Both\")"
   ]
  }
 ],
 "metadata": {
  "kernelspec": {
   "display_name": "Python 3",
   "language": "python",
   "name": "python3"
  },
  "language_info": {
   "codemirror_mode": {
    "name": "ipython",
    "version": 3
   },
   "file_extension": ".py",
   "mimetype": "text/x-python",
   "name": "python",
   "nbconvert_exporter": "python",
   "pygments_lexer": "ipython3",
   "version": "3.7.3"
  }
 },
 "nbformat": 4,
 "nbformat_minor": 2
}
